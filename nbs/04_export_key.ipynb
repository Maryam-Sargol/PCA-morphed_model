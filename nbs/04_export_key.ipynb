{
 "cells": [
  {
   "cell_type": "markdown",
   "metadata": {},
   "source": [
    "# Export .key files\n",
    "\n",
    "> Fill in a module description here"
   ]
  },
  {
   "cell_type": "code",
   "execution_count": null,
   "metadata": {},
   "outputs": [],
   "source": [
    "#| default_exp export_key"
   ]
  },
  {
   "cell_type": "code",
   "execution_count": null,
   "metadata": {},
   "outputs": [],
   "source": [
    "\n",
    "#| hide\n",
    "from nbdev.showdoc import *"
   ]
  },
  {
   "cell_type": "code",
   "execution_count": null,
   "metadata": {},
   "outputs": [],
   "source": [
    "#| export\n",
    "import numpy as np"
   ]
  },
  {
   "cell_type": "code",
   "execution_count": null,
   "metadata": {},
   "outputs": [],
   "source": [
    "#| export\n",
    "def export_key_file(coordinates: list[list[float]] , #coordinates of nodes\n",
    "                    shells_array: np.array, #shells of morphed model, each shell enclosed by nodes\n",
    "                    id_nodes: list[int], # id of nodes of morphed model\n",
    "                    file_name: list[str]): # new file name\n",
    "    \n",
    "    \"\"\" This function creates a key file with given coordinates and shell elements. \"\"\"\n",
    "    \n",
    "    x_data = [point[0] for point in coordinates]\n",
    "    y_data = [point[1] for point in coordinates]\n",
    "    z_data = [point[2] for point in coordinates]\n",
    "    \n",
    "    id_shells = shells_array[:,0]\n",
    "    n_fix_shells = shells_array[:,1]\n",
    "    shells_without_id_array = shells_array[:, 2:]\n",
    "    p1= shells_without_id_array[:,0]\n",
    "    p2= shells_without_id_array[:,1]\n",
    "    p3= shells_without_id_array[:,2]\n",
    "    p4= shells_without_id_array[:,3]\n",
    "\n",
    "\n",
    "#create .key file with quad faces\n",
    "    with open(file_name, \"w\") as file:\n",
    "        # Write header\n",
    "            file.write(\"*KEYWORD\\n\")\n",
    "            \n",
    "            # Write nodes\n",
    "            file.write(\"*NODE\\n\")\n",
    "            for i in range(len(x_data)):\n",
    "                file.write(f\"{int(id_nodes[i]):8d}{x_data[i]:16.4f}{y_data[i]:16.4f}{z_data[i]:16.4f}       0       0\\n\")    \n",
    "\n",
    "            # Write elements \n",
    "            file.write(\"*ELEMENT_SHELL\\n\")\n",
    "            for i in range(len(id_shells)):\n",
    "                file.write(f\"{id_shells[i]}{n_fix_shells[i]}{p1[i]}{p2[i]}{p3[i]}{p4[i]}\\n\")\n",
    "\n",
    "            # End of file\n",
    "            file.write(\"*END\\n\")"
   ]
  },
  {
   "cell_type": "code",
   "execution_count": null,
   "metadata": {},
   "outputs": [],
   "source": [
    "#| hide\n",
    "import nbdev; nbdev.nbdev_export()"
   ]
  }
 ],
 "metadata": {
  "kernelspec": {
   "display_name": "python3",
   "language": "python",
   "name": "python3"
  }
 },
 "nbformat": 4,
 "nbformat_minor": 2
}
