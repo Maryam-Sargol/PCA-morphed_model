{
 "cells": [
  {
   "cell_type": "markdown",
   "metadata": {},
   "source": [
    "# Extract nodes and shells\n",
    "\n",
    "> Fill in a module description here"
   ]
  },
  {
   "cell_type": "code",
   "execution_count": null,
   "metadata": {},
   "outputs": [],
   "source": [
    "#| default_exp extract_NSH_stl_key"
   ]
  },
  {
   "cell_type": "code",
   "execution_count": null,
   "metadata": {},
   "outputs": [],
   "source": [
    "#| hide\n",
    "from nbdev.showdoc import *"
   ]
  },
  {
   "cell_type": "code",
   "execution_count": null,
   "metadata": {},
   "outputs": [],
   "source": [
    "#| export\n",
    "import numpy as np\n",
    "import os\n",
    "import trimesh"
   ]
  },
  {
   "cell_type": "code",
   "execution_count": null,
   "metadata": {},
   "outputs": [],
   "source": [
    "#| export\n",
    "\n",
    "def extract_nodes_shells_mix_stl_key (file_path : str): # path of morphed files\n",
    "    \"\"\" extracts nodes and shells from given files, only .stl and .key files are accepted \"\"\"\n",
    "\n",
    "    file_extension = os.path.splitext(file_path)[1].lower()\n",
    " \n",
    "\n",
    "    if file_extension == \".stl\":\n",
    "        #\"Processing an STL file\"\n",
    "        model = trimesh.load_mesh(file_path)\n",
    "        shells = np.array(model.faces)\n",
    "        nodes = np.array(model.vertices)\n",
    "        nodes_list = nodes.tolist()\n",
    "        # Generating IDs starting from 1\n",
    "        # Create a list with IDs attached to each sublist\n",
    "        ids = list(range(1, len(nodes_list) + 1))\n",
    "        # Attach IDs to each row\n",
    "        nodes_with_ids = [[id] + row for id, row in zip(ids, nodes_list)]\n",
    "   \n",
    "   \n",
    "    elif file_extension == \".key\" or \".k\":\n",
    "        #\"Processing a KEY file\"\n",
    "\n",
    "        # Flags to track sections\n",
    "        in_node_section = False\n",
    "        in_element_section = False\n",
    "    \n",
    "        nodes_with_ids = []\n",
    "        shells = []\n",
    "\n",
    "        with open(file_path, 'r') as file:\n",
    "            for line in file:\n",
    "                if \"*NODE\" in line:  # Check for the keyword\n",
    "                    in_node_section = True\n",
    "                    in_element_section = False\n",
    "                    continue  # Skip the current line containing \"START\"\n",
    "\n",
    "                elif \"*ELEMENT_SHELL\" in line:\n",
    "                    in_node_section = False\n",
    "                    in_element_section = True\n",
    "                    continue\n",
    "\n",
    "                    # Process lines in the *NODE section\n",
    "                if in_node_section:\n",
    "\n",
    "                    first_chunk = line[:8]\n",
    "                    remaining_chunks = [line[i:i + 16] for i in range(8, len(line), 16)]\n",
    "\n",
    "                    try:\n",
    "                        id, x, y, z = float(first_chunk), float(remaining_chunks[0]), float(remaining_chunks[1]), float(\n",
    "                            remaining_chunks[2]),\n",
    "                        nodes_with_ids.append((id, x, y, z))\n",
    "\n",
    "\n",
    "\n",
    "                    except (ValueError, IndexError):\n",
    "                    #Skip lines that don't contain valid coordinate data\n",
    "                        continue\n",
    "\n",
    "                    # Process lines in the *ELEMENT_SHELL section\n",
    "                elif in_element_section:\n",
    "\n",
    "                    chunks = [line[i:i + 8] for i in range(0, len(line), 8)]\n",
    "                    try:\n",
    "                        i, n_fix, p1, p2, p3, p4 = chunks[0], chunks[1], chunks[2], chunks[3], chunks[4], chunks[5]\n",
    "                        shells.append((i, n_fix, p1, p2, p3, p4))              \n",
    "\n",
    "                \n",
    "                    except (ValueError, IndexError):\n",
    "                    # Skip lines that don't contain valid coordinate data\n",
    "                        continue\n",
    "    \n",
    "    \n",
    "    else:\n",
    "        print(\"Unsupported file format.\")\n",
    "        print(file_extension + ' is not accepted')\n",
    "\n",
    "\n",
    "    nodes_array = np.array(nodes_with_ids)\n",
    "    shells_array = np.array(shells)\n",
    "    \n",
    "\n",
    "    return  nodes_array, shells_array, file_extension"
   ]
  },
  {
   "cell_type": "code",
   "execution_count": null,
   "metadata": {},
   "outputs": [],
   "source": [
    "#| hide\n",
    "import nbdev; nbdev.nbdev_export()"
   ]
  }
 ],
 "metadata": {
  "kernelspec": {
   "display_name": "python3",
   "language": "python",
   "name": "python3"
  }
 },
 "nbformat": 4,
 "nbformat_minor": 2
}
