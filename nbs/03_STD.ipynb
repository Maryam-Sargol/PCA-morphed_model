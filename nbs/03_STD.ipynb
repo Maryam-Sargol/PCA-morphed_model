{
 "cells": [
  {
   "cell_type": "code",
   "execution_count": null,
   "metadata": {},
   "outputs": [],
   "source": [
    "#| default_exp STD"
   ]
  },
  {
   "cell_type": "code",
   "execution_count": 1,
   "metadata": {},
   "outputs": [],
   "source": [
    "\n",
    "#| export\n",
    "import numpy as np"
   ]
  },
  {
   "cell_type": "code",
   "execution_count": null,
   "metadata": {},
   "outputs": [],
   "source": [
    "\n",
    "#| export\n",
    "def desired_STD(coefficients: np.array, # PCA-coefficients\n",
    "                 pca_mean: np.array, # PCA-mean\n",
    "                 scores: np.array,  # PCA-scores\n",
    "                 pca_index: int, # The component you want to evaluate (starts from 0)\n",
    "                 k:int ) : # desired scaling factor \n",
    "    \"\"\" This function explains how much the data will change along specific pc by standard deviation.\"\"\"\n",
    "    \n",
    "    score_std = np.std (scores[:,pca_index], axis=0, ddof=1)\n",
    "    modified_data_with_pos_std =  pca_mean + k * score_std   *  coefficients[:,pca_index]  \n",
    "    modified_data_with_neg_std =  pca_mean - k * score_std  *  coefficients[:,pca_index]\n",
    "    modified_data_without_std =  pca_mean\n",
    "    \"\"\"pca_mean represents the mean vector of the original data, k is a scaling factor, and score_std is the standard deviation of\n",
    "      the transformed data for the chosen principal component. Coefficients represents the coefficient corresponding to \n",
    "      the selected principal component. Size of each variable is:\n",
    "      coefficients : (No of components, No of features),\n",
    "      pca_mean: (No of features),\n",
    "      scores:(No of samples, No of components),\n",
    "      score_std:scalar,\n",
    "      \"\"\"\n",
    "\n",
    "\n",
    "    # Reshape the list into groups of 3 (x, y, z)\n",
    "    coordinates_pos = [modified_data_with_pos_std[i:i+3] for i in range(0, len(modified_data_with_pos_std), 3)]\n",
    "    coordinates_neg = [modified_data_with_neg_std[i:i+3] for i in range(0, len(modified_data_with_neg_std), 3)]\n",
    "    coordinates_mean = [modified_data_without_std[i:i+3] for i in range(0, len(modified_data_without_std), 3)]\n",
    "   \n",
    "\n",
    "    return coordinates_pos, coordinates_neg, coordinates_mean"
   ]
  }
 ],
 "metadata": {
  "kernelspec": {
   "display_name": "infekit",
   "language": "python",
   "name": "python3"
  },
  "language_info": {
   "codemirror_mode": {
    "name": "ipython",
    "version": 3
   },
   "file_extension": ".py",
   "mimetype": "text/x-python",
   "name": "python",
   "nbconvert_exporter": "python",
   "pygments_lexer": "ipython3",
   "version": "3.9.20"
  }
 },
 "nbformat": 4,
 "nbformat_minor": 2
}
