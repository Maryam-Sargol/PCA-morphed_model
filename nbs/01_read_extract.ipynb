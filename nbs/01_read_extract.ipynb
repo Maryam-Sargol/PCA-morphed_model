{
 "cells": [
  {
   "cell_type": "code",
   "execution_count": null,
   "metadata": {},
   "outputs": [],
   "source": [
    "#| default_exp read_extract"
   ]
  },
  {
   "cell_type": "code",
   "execution_count": null,
   "metadata": {},
   "outputs": [],
   "source": [
    "#| export\n",
    "import glob\n",
    "import os\n",
    "import numpy as np\n",
    "from PCA_morphed_model.extract_NSH_stl_key import extract_nodes_shells_mix_stl_key\n",
    "\n"
   ]
  },
  {
   "cell_type": "code",
   "execution_count": null,
   "metadata": {},
   "outputs": [],
   "source": [
    "\n",
    "#| export\n",
    "\n",
    "def read_extract_nodes_shells(input_dir:str  ):  # input directory\n",
    "    \"\"\"Reads STL or KEY files from a directory and extracts node coordinates and shell elements.\"\"\"\n",
    "    \n",
    "    all_morphed_file_pathes = [f for f in glob.glob(os.path.join(input_dir, \"*\")) if os.path.isfile(f)]     # All files (excluding folders)\n",
    "\n",
    "    # extract the cordinates of nodes of all morphed files\n",
    "    nodes_all_morphed_files = np.empty(0)\n",
    "    shells = np.empty(0)\n",
    "    id_nodes = []\n",
    "\n",
    "    if all_morphed_file_pathes != []:\n",
    "        for file_path in all_morphed_file_pathes:\n",
    "            nodes1 = extract_nodes_shells_mix_stl_key(file_path)[0]\n",
    "            \n",
    "            nodes_without_id = [sublist[1:] for sublist in nodes1]    # extract nodes cordinates (x, y, z)\n",
    "            id_nodes = [sublist[0] for sublist in nodes1]             # extract id of nodes\n",
    "            nodes_list = [item for sublist in nodes_without_id for item in sublist]     # Convert to one list\n",
    "            nodes_all_morphed_files.append(nodes_list)                # get nodes of all morphed files\n",
    "        \n",
    "        file_extension = extract_nodes_shells_mix_stl_key(all_morphed_file_pathes[-1])[2]\n",
    "        print(f\"{len(all_morphed_file_pathes)} {file_extension} files were read\")\n",
    "        shells = extract_nodes_shells_mix_stl_key(all_morphed_file_pathes[-1])[1]\n",
    "    \n",
    "    data_array = np.array(nodes_all_morphed_files) \n",
    "    return data_array, shells, id_nodes\n",
    "    "
   ]
  }
 ],
 "metadata": {
  "kernelspec": {
   "display_name": "python3",
   "language": "python",
   "name": "python3"
  }
 },
 "nbformat": 4,
 "nbformat_minor": 2
}
