{
 "cells": [
  {
   "cell_type": "markdown",
   "metadata": {},
   "source": [
    "# This shows the steps of running PCA and exporting results"
   ]
  },
  {
   "cell_type": "markdown",
   "metadata": {},
   "source": [
    "Import libraries and functions"
   ]
  },
  {
   "cell_type": "code",
   "execution_count": null,
   "metadata": {},
   "outputs": [],
   "source": [
    "#| export\n",
    "from PCA_morphed_model.read_extract import read_extract_nodes_shells\n",
    "from PCA_morphed_model.pca import run_PCA \n",
    "from PCA_morphed_model.STD import desired_STD\n",
    "from PCA_morphed_model.export_file_mix import export_file"
   ]
  },
  {
   "cell_type": "markdown",
   "metadata": {},
   "source": [
    "Define the input directory to load data and out put directory to save results "
   ]
  },
  {
   "cell_type": "code",
   "execution_count": null,
   "metadata": {},
   "outputs": [],
   "source": [
    "#| export\n",
    "#input_dir = './geometry_data_example'     # there are .key files\n",
    "input_dir = './geometry_data_example/triangular_morphed_models'       # there are .stl files\n",
    "output_dir = './result'\n"
   ]
  },
  {
   "cell_type": "markdown",
   "metadata": {},
   "source": [
    "Read the files and extract nodes coordinates and shell elements"
   ]
  },
  {
   "cell_type": "code",
   "execution_count": null,
   "metadata": {},
   "outputs": [
    {
     "ename": "UnboundLocalError",
     "evalue": "local variable 'file_path' referenced before assignment",
     "output_type": "error",
     "traceback": [
      "\u001b[1;31m---------------------------------------------------------------------------\u001b[0m",
      "\u001b[1;31mUnboundLocalError\u001b[0m                         Traceback (most recent call last)",
      "Cell \u001b[1;32mIn[4], line 2\u001b[0m\n\u001b[0;32m      1\u001b[0m \u001b[38;5;66;03m#| export\u001b[39;00m\n\u001b[1;32m----> 2\u001b[0m data_array, shells, id_nodes \u001b[38;5;241m=\u001b[39m \u001b[43mread_extract_nodes_shells\u001b[49m\u001b[43m(\u001b[49m\u001b[43minput_dir\u001b[49m\u001b[43m)\u001b[49m\n",
      "File \u001b[1;32m~\\Desktop\\PCA_final\\PCA-morphed_model\\PCA_morphed_model\\read_extract.py:32\u001b[0m, in \u001b[0;36mread_extract_nodes_shells\u001b[1;34m(input_dir)\u001b[0m\n\u001b[0;32m     29\u001b[0m     nodes_list \u001b[38;5;241m=\u001b[39m [item \u001b[38;5;28;01mfor\u001b[39;00m sublist \u001b[38;5;129;01min\u001b[39;00m nodes_without_id \u001b[38;5;28;01mfor\u001b[39;00m item \u001b[38;5;129;01min\u001b[39;00m sublist]     \u001b[38;5;66;03m# Convert to one list\u001b[39;00m\n\u001b[0;32m     30\u001b[0m     nodes_all_morphed_files\u001b[38;5;241m.\u001b[39mappend(nodes_list)                \u001b[38;5;66;03m# get nodes of all morphed files\u001b[39;00m\n\u001b[1;32m---> 32\u001b[0m file_extension \u001b[38;5;241m=\u001b[39m extract_nodes_shells_mix_stl_key(\u001b[43mfile_path\u001b[49m)[\u001b[38;5;241m2\u001b[39m]\n\u001b[0;32m     33\u001b[0m \u001b[38;5;28mprint\u001b[39m(\u001b[38;5;124mf\u001b[39m\u001b[38;5;124m\"\u001b[39m\u001b[38;5;132;01m{\u001b[39;00m\u001b[38;5;28mlen\u001b[39m(all_morphed_file_pathes)\u001b[38;5;132;01m}\u001b[39;00m\u001b[38;5;124m \u001b[39m\u001b[38;5;132;01m{\u001b[39;00mfile_extension\u001b[38;5;132;01m}\u001b[39;00m\u001b[38;5;124m files were read\u001b[39m\u001b[38;5;124m\"\u001b[39m)\n\u001b[0;32m     35\u001b[0m shells \u001b[38;5;241m=\u001b[39m extract_nodes_shells_mix_stl_key(file_path)[\u001b[38;5;241m1\u001b[39m]\n",
      "\u001b[1;31mUnboundLocalError\u001b[0m: local variable 'file_path' referenced before assignment"
     ]
    }
   ],
   "source": [
    "#| export\n",
    "data_array, shells, id_nodes = read_extract_nodes_shells(input_dir)"
   ]
  },
  {
   "cell_type": "markdown",
   "metadata": {},
   "source": [
    "Run PCA with data (nodes coordinates)"
   ]
  },
  {
   "cell_type": "code",
   "execution_count": null,
   "metadata": {},
   "outputs": [],
   "source": [
    "#| export\n",
    "\n",
    "coefficients,scores, explained_variance, pca_mean= run_PCA(data_array)"
   ]
  },
  {
   "cell_type": "markdown",
   "metadata": {},
   "source": [
    "Apply desired standard deviations for  a specific principal componenet "
   ]
  },
  {
   "cell_type": "code",
   "execution_count": null,
   "metadata": {},
   "outputs": [],
   "source": [
    "#| export\n",
    "\n",
    "pca_index = 0  # PCA1\n",
    "k = 3  # Number of standard deviations\n",
    "\n",
    "coordinates_pos, coordinates_neg, coordinates_mean = desired_STD(coefficients, pca_mean, scores, pca_index, k )"
   ]
  },
  {
   "cell_type": "markdown",
   "metadata": {},
   "source": [
    "Export results of applying STD (positive, negative and zero) on data, then save the results with .stl or .key format based on the input format of data."
   ]
  },
  {
   "cell_type": "code",
   "execution_count": null,
   "metadata": {},
   "outputs": [],
   "source": [
    "#| export\n",
    "mesh_pos, mesh_neg, mesh_mean = export_file (input_dir,output_dir, coordinates_pos, coordinates_neg, coordinates_mean , shells, id_nodes,k)"
   ]
  }
 ],
 "metadata": {
  "kernelspec": {
   "display_name": "python3",
   "language": "python",
   "name": "python3"
  }
 },
 "nbformat": 4,
 "nbformat_minor": 2
}
