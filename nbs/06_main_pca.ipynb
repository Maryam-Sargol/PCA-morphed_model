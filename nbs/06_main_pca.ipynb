{
 "cells": [
  {
   "cell_type": "markdown",
   "metadata": {},
   "source": [
    "# Main\n",
    "\n",
    "> Fill in a module description here"
   ]
  },
  {
   "cell_type": "code",
   "execution_count": null,
   "metadata": {},
   "outputs": [],
   "source": [
    "#| default_exp main_pca"
   ]
  },
  {
   "cell_type": "code",
   "execution_count": null,
   "metadata": {},
   "outputs": [],
   "source": [
    "#| hide\n",
    "from nbdev.showdoc import *"
   ]
  },
  {
   "cell_type": "code",
   "execution_count": null,
   "metadata": {},
   "outputs": [],
   "source": [
    "#| export\n",
    "from PCA_morphed_model.read_extract import read_extract_nodes_shells\n",
    "from PCA_morphed_model.pca import run_PCA \n",
    "from PCA_morphed_model.STD import desired_STD\n",
    "from PCA_morphed_model.export_file_mix import export_file\n",
    "import numpy as np"
   ]
  },
  {
   "cell_type": "code",
   "execution_count": null,
   "metadata": {},
   "outputs": [],
   "source": [
    "#| export\n",
    "#input_dir = './geometry_data_example'     # there are .key files\n",
    "input_dir = './geometry_data_example/triangular_morphed_models'       # there are .stl files\n",
    "output_dir = './result'\n"
   ]
  },
  {
   "cell_type": "code",
   "execution_count": null,
   "metadata": {},
   "outputs": [],
   "source": [
    "#| export\n",
    "data_array, shells, id_nodes = read_extract_nodes_shells(input_dir)"
   ]
  },
  {
   "cell_type": "code",
   "execution_count": null,
   "metadata": {},
   "outputs": [],
   "source": [
    "#| export\n",
    "# run pca\n",
    "if data_array.size > 0:\n",
    "    coefficients,scores, explained_variance, pca_mean= run_PCA(data_array)"
   ]
  },
  {
   "cell_type": "code",
   "execution_count": null,
   "metadata": {},
   "outputs": [],
   "source": [
    "#| export\n",
    "# apply desired standard deviations\n",
    "pca_index = 0  # PCA1\n",
    "k = 3  # Number of standard deviations\n",
    "if data_array.size > 0:\n",
    "    coordinates_pos, coordinates_neg, coordinates_mean = desired_STD(coefficients, pca_mean, scores, pca_index, k )"
   ]
  },
  {
   "cell_type": "code",
   "execution_count": null,
   "metadata": {},
   "outputs": [],
   "source": [
    "#| export\n",
    "if data_array.size > 0:\n",
    "    mesh_pos, mesh_neg, mesh_mean = export_file (input_dir,output_dir, coordinates_pos, coordinates_neg, coordinates_mean , shells, id_nodes,k)"
   ]
  },
  {
   "cell_type": "code",
   "execution_count": null,
   "metadata": {},
   "outputs": [],
   "source": [
    "#| hide\n",
    "import nbdev; nbdev.nbdev_export()"
   ]
  }
 ],
 "metadata": {
  "kernelspec": {
   "display_name": "python3",
   "language": "python",
   "name": "python3"
  }
 },
 "nbformat": 4,
 "nbformat_minor": 2
}
