{
 "cells": [
  {
   "cell_type": "code",
   "execution_count": null,
   "metadata": {},
   "outputs": [],
   "source": [
    "#| default_exp export_file_mix"
   ]
  },
  {
   "cell_type": "code",
   "execution_count": null,
   "metadata": {},
   "outputs": [],
   "source": [
    "\n",
    "#| hide\n",
    "from nbdev.showdoc import *"
   ]
  },
  {
   "cell_type": "code",
   "execution_count": null,
   "metadata": {},
   "outputs": [
    {
     "ename": "NameError",
     "evalue": "name 'np' is not defined",
     "output_type": "error",
     "traceback": [
      "\u001b[1;31m---------------------------------------------------------------------------\u001b[0m",
      "\u001b[1;31mNameError\u001b[0m                                 Traceback (most recent call last)",
      "Cell \u001b[1;32mIn[1], line 3\u001b[0m\n\u001b[0;32m      1\u001b[0m \u001b[38;5;66;03m#| export\u001b[39;00m\n\u001b[0;32m      2\u001b[0m \u001b[38;5;28;01mimport\u001b[39;00m \u001b[38;5;21;01mtrimesh\u001b[39;00m\n\u001b[1;32m----> 3\u001b[0m \u001b[38;5;28;01mfrom\u001b[39;00m \u001b[38;5;21;01mPCA_morphed_model\u001b[39;00m\u001b[38;5;21;01m.\u001b[39;00m\u001b[38;5;21;01mexport_key\u001b[39;00m \u001b[38;5;28;01mimport\u001b[39;00m export_key_file\n\u001b[0;32m      4\u001b[0m \u001b[38;5;28;01mimport\u001b[39;00m \u001b[38;5;21;01mnumpy\u001b[39;00m \u001b[38;5;28;01mas\u001b[39;00m \u001b[38;5;21;01mnp\u001b[39;00m\n\u001b[0;32m      5\u001b[0m \u001b[38;5;28;01mimport\u001b[39;00m \u001b[38;5;21;01mglob\u001b[39;00m\n",
      "File \u001b[1;32m~\\Desktop\\PCA_final\\PCA-morphed_model\\PCA_morphed_model\\export_key.py:8\u001b[0m\n\u001b[0;32m      4\u001b[0m __all__ \u001b[38;5;241m=\u001b[39m [\u001b[38;5;124m'\u001b[39m\u001b[38;5;124mexport_key_file\u001b[39m\u001b[38;5;124m'\u001b[39m]\n\u001b[0;32m      6\u001b[0m \u001b[38;5;66;03m# %% ../nbs/04_export_key.ipynb 2\u001b[39;00m\n\u001b[0;32m      7\u001b[0m \u001b[38;5;28;01mdef\u001b[39;00m \u001b[38;5;21mexport_key_file\u001b[39m(coordinates: \u001b[38;5;28mlist\u001b[39m[\u001b[38;5;28mlist\u001b[39m[\u001b[38;5;28mfloat\u001b[39m]] ,\n\u001b[1;32m----> 8\u001b[0m                      shells_array: \u001b[43mnp\u001b[49m\u001b[38;5;241m.\u001b[39marray,\n\u001b[0;32m      9\u001b[0m                        id_nodes: \u001b[38;5;28mlist\u001b[39m[\u001b[38;5;28mint\u001b[39m],\n\u001b[0;32m     10\u001b[0m                        file_name: \u001b[38;5;28mlist\u001b[39m[\u001b[38;5;28mstr\u001b[39m]):\n\u001b[0;32m     12\u001b[0m \u001b[38;5;250m    \u001b[39m\u001b[38;5;124;03m\"\"\" This function creates a key file with given coordinates and shell elements. \"\"\"\u001b[39;00m\n\u001b[0;32m     14\u001b[0m     x_data \u001b[38;5;241m=\u001b[39m [point[\u001b[38;5;241m0\u001b[39m] \u001b[38;5;28;01mfor\u001b[39;00m point \u001b[38;5;129;01min\u001b[39;00m coordinates]\n",
      "\u001b[1;31mNameError\u001b[0m: name 'np' is not defined"
     ]
    }
   ],
   "source": [
    "#| export\n",
    "import trimesh\n",
    "from PCA_morphed_model.export_key import export_key_file\n",
    "import numpy as np\n",
    "import glob\n",
    "import os"
   ]
  },
  {
   "cell_type": "code",
   "execution_count": null,
   "metadata": {},
   "outputs": [],
   "source": [
    "\n",
    "#| export\n",
    "def export_file (input_dir: str, # input directory\n",
    "                output_dir: str, # output directory\n",
    "                coordinates_pos: list[list[float]], #new coordinates with positive k.std \n",
    "                coordinates_neg: list[list[float]], #new coordinates with negetive k.std \n",
    "                coordinates_mean: list[list[float]] , #new coordinates with k = 0 \n",
    "                shells: np.array , #shells of morphed model, each shell enclosed by nodes\n",
    "                id_nodes: list[int], # id of nodes of morphed model\n",
    "                k: int):  #desired scaling factor \n",
    "    \"\"\" This function export .stl or .key file for three kind of coordinates (positive, negative, mean)\"\"\"\n",
    "\n",
    "    all_morphed_file_pathes = [f for f in glob.glob(os.path.join(input_dir, \"*\")) if os.path.isfile(f)]     # All files (excluding folders)\n",
    "    \n",
    "    file_extension = os.path.splitext(all_morphed_file_pathes[0])[1].lower()\n",
    "    if file_extension == \".stl\":\n",
    "        # create stl file\n",
    "        vertices_pos = np.array(coordinates_pos)\n",
    "        vertices_neg = np.array(coordinates_neg)\n",
    "        vertices_mean = np.array(coordinates_mean)\n",
    "        faces = shells\n",
    "        mesh_pos = trimesh.Trimesh(vertices=vertices_pos, faces=faces)\n",
    "        mesh_neg = trimesh.Trimesh(vertices=vertices_neg, faces=faces)\n",
    "        mesh_mean = trimesh.Trimesh(vertices=vertices_mean, faces=faces)\n",
    "\n",
    "        # Define filenames dynamically based on data type\n",
    "        filenames = {\n",
    "            \"pos\": f\"mesh_{k}_pos_std.stl\",\n",
    "            \"neg\": f\"mesh_{k}_neg_std.stl\",\n",
    "            \"mean\": f\"mesh_mean.stl\",\n",
    "        }\n",
    "\n",
    "        # Generate the full file path dynamically\n",
    "        # Define output paths\n",
    "        output_paths = {\n",
    "            \"pos\": os.path.join(output_dir, filenames[\"pos\"]),\n",
    "            \"neg\": os.path.join(output_dir, filenames[\"neg\"]),\n",
    "            \"mean\": os.path.join(output_dir, filenames[\"mean\"]),\n",
    "        }\n",
    "\n",
    "        # Export STL files with appropriate names\n",
    "        mesh_pos.export(output_paths[\"pos\"])\n",
    "        mesh_neg.export(output_paths[\"neg\"])\n",
    "        mesh_mean.export(output_paths[\"mean\"])\n",
    "\n",
    "\n",
    "    elif file_extension == \".key\" or \".k\":\n",
    "        #export .key file for quad shells\n",
    "        filenames = {\n",
    "            \"pos\": f\"mesh_{k}_pos_std.key\",\n",
    "            \"neg\": f\"mesh_{k}_neg_std.key\",\n",
    "            \"mean\": f\"mesh_mean.key\",\n",
    "        }\n",
    "        # Generate the full file path dynamically\n",
    "         # Define output paths\n",
    "        output_paths = {\n",
    "            \"pos\": os.path.join(output_dir, filenames[\"pos\"]),\n",
    "            \"neg\": os.path.join(output_dir, filenames[\"neg\"]),\n",
    "            \"mean\": os.path.join(output_dir, filenames[\"mean\"]),\n",
    "        }\n",
    "        #file_name = output_path\n",
    "        mesh_pos = export_key_file(coordinates_pos , shells, id_nodes,output_paths[\"pos\"])\n",
    "        mesh_neg = export_key_file(coordinates_neg , shells, id_nodes,output_paths[\"neg\"])\n",
    "        mesh_mean = export_key_file(coordinates_mean , shells, id_nodes,output_paths[\"mean\"])\n",
    "    \n",
    "    return mesh_pos, mesh_neg, mesh_mean "
   ]
  },
  {
   "cell_type": "code",
   "execution_count": null,
   "metadata": {},
   "outputs": [],
   "source": [
    "#| hide\n",
    "import nbdev; nbdev.nbdev_export()"
   ]
  }
 ],
 "metadata": {
  "kernelspec": {
   "display_name": "python3",
   "language": "python",
   "name": "python3"
  }
 },
 "nbformat": 4,
 "nbformat_minor": 2
}
