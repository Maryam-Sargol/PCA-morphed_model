{
 "cells": [
  {
   "cell_type": "code",
   "execution_count": null,
   "metadata": {},
   "outputs": [],
   "source": [
    "#| default_exp export_file_mix"
   ]
  },
  {
   "cell_type": "code",
   "execution_count": 1,
   "metadata": {},
   "outputs": [],
   "source": [
    "#| export\n",
    "import trimesh\n",
    "from PCA_morphed_model.export_key import export_key_file\n",
    "import numpy as np\n",
    "import glob\n",
    "import os"
   ]
  },
  {
   "cell_type": "code",
   "execution_count": null,
   "metadata": {},
   "outputs": [],
   "source": [
    "\n",
    "#| export\n",
    "def export_file (input_dir: str, # input directory\n",
    "                output_dir: str, # output directory\n",
    "                coordinates_pos: list[list[float]], #new coordinates with positive k.std \n",
    "                coordinates_neg: list[list[float]], #new coordinates with negetive k.std \n",
    "                coordinates_mean: list[list[float]] , #new coordinates with k = 0 \n",
    "                shells: np.array , #shells of morphed model, each shell enclosed by nodes\n",
    "                id_nodes: list[int], # id of nodes of morphed model\n",
    "                k: int):  #desired scaling factor \n",
    "    \"\"\" This function export .stl or .key file for three kind of coordinates (positive, negative, mean)\"\"\"\n",
    "\n",
    "    all_morphed_file_pathes = [f for f in glob.glob(os.path.join(input_dir, \"*\")) if os.path.isfile(f)]     # All files (excluding folders)\n",
    "    \n",
    "    file_extension = os.path.splitext(all_morphed_file_pathes[0])[1].lower()\n",
    "    if file_extension == \".stl\":\n",
    "        # create stl file\n",
    "        vertices_pos = np.array(coordinates_pos)\n",
    "        vertices_neg = np.array(coordinates_neg)\n",
    "        vertices_mean = np.array(coordinates_mean)\n",
    "        faces = shells\n",
    "        mesh_pos = trimesh.Trimesh(vertices=vertices_pos, faces=faces)\n",
    "        mesh_neg = trimesh.Trimesh(vertices=vertices_neg, faces=faces)\n",
    "        mesh_mean = trimesh.Trimesh(vertices=vertices_mean, faces=faces)\n",
    "\n",
    "        # Define filenames dynamically based on data type\n",
    "        filenames = {\n",
    "            \"pos\": f\"mesh_{k}_pos_std.stl\",\n",
    "            \"neg\": f\"mesh_{k}_neg_std.stl\",\n",
    "            \"mean\": f\"mesh_mean.stl\",\n",
    "        }\n",
    "\n",
    "        # Generate the full file path dynamically\n",
    "        # Define output paths\n",
    "        output_paths = {\n",
    "            \"pos\": os.path.join(output_dir, filenames[\"pos\"]),\n",
    "            \"neg\": os.path.join(output_dir, filenames[\"neg\"]),\n",
    "            \"mean\": os.path.join(output_dir, filenames[\"mean\"]),\n",
    "        }\n",
    "\n",
    "        # Export STL files with appropriate names\n",
    "        mesh_pos.export(output_paths[\"pos\"])\n",
    "        mesh_neg.export(output_paths[\"neg\"])\n",
    "        mesh_mean.export(output_paths[\"mean\"])\n",
    "\n",
    "\n",
    "    elif file_extension == \".key\" or \".k\":\n",
    "        #export .key file for quad shells\n",
    "        filenames = {\n",
    "            \"pos\": f\"mesh_{k}_pos_std.key\",\n",
    "            \"neg\": f\"mesh_{k}_neg_std.key\",\n",
    "            \"mean\": f\"mesh_mean.key\",\n",
    "        }\n",
    "        # Generate the full file path dynamically\n",
    "         # Define output paths\n",
    "        output_paths = {\n",
    "            \"pos\": os.path.join(output_dir, filenames[\"pos\"]),\n",
    "            \"neg\": os.path.join(output_dir, filenames[\"neg\"]),\n",
    "            \"mean\": os.path.join(output_dir, filenames[\"mean\"]),\n",
    "        }\n",
    "        #file_name = output_path\n",
    "        mesh_pos = export_key_file(coordinates_pos , shells, id_nodes,output_paths[\"pos\"])\n",
    "        mesh_neg = export_key_file(coordinates_neg , shells, id_nodes,output_paths[\"neg\"])\n",
    "        mesh_mean = export_key_file(coordinates_mean , shells, id_nodes,output_paths[\"mean\"])\n",
    "    \n",
    "    return mesh_pos, mesh_neg, mesh_mean "
   ]
  }
 ],
 "metadata": {
  "kernelspec": {
   "display_name": "infekit",
   "language": "python",
   "name": "python3"
  },
  "language_info": {
   "codemirror_mode": {
    "name": "ipython",
    "version": 3
   },
   "file_extension": ".py",
   "mimetype": "text/x-python",
   "name": "python",
   "nbconvert_exporter": "python",
   "pygments_lexer": "ipython3",
   "version": "3.9.20"
  }
 },
 "nbformat": 4,
 "nbformat_minor": 2
}
