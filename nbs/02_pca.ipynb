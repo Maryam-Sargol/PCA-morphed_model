{
 "cells": [
  {
   "cell_type": "markdown",
   "metadata": {},
   "source": [
    "# PCA run\n",
    "\n",
    "> Fill in a module description here"
   ]
  },
  {
   "cell_type": "code",
   "execution_count": null,
   "metadata": {},
   "outputs": [],
   "source": [
    "#| default_exp pca"
   ]
  },
  {
   "cell_type": "code",
   "execution_count": null,
   "metadata": {},
   "outputs": [],
   "source": [
    "\n",
    "#| hide\n",
    "from nbdev.showdoc import *"
   ]
  },
  {
   "cell_type": "code",
   "execution_count": null,
   "metadata": {},
   "outputs": [],
   "source": [
    "#| export\n",
    "import numpy as np\n",
    "import matplotlib.pyplot as plt\n",
    "from sklearn.decomposition import PCA\n",
    "from sklearn.preprocessing import StandardScaler\n"
   ]
  },
  {
   "cell_type": "code",
   "execution_count": null,
   "metadata": {},
   "outputs": [],
   "source": [
    "#| export\n",
    "def run_PCA (data_array: np.array ):  # array containing coordinates of nodes\n",
    "\n",
    "    \"\"\" runs PCA, steps: \n",
    "            1: Standardizes the data\n",
    "            2: Runs PCA\n",
    "            3: Extracts Coefficients (Loadings), Scores and pca_mean\n",
    "            4: Plots the histogram and cumulative of the PCA explained variance ratio\n",
    "\n",
    "    \"\"\"\n",
    "    # 1: Standardize the data\n",
    "    scaler = StandardScaler(with_mean=False, with_std=False)\n",
    "    nodes_standardized = scaler.fit_transform(data_array)\n",
    "\n",
    "    # 2: Apply PCA\n",
    "    pca = PCA()  \n",
    "    nodes_pca = pca.fit_transform(nodes_standardized)\n",
    "                                                                                                               \n",
    "    # 3: Extract Coefficients (Loadings), Scores and pca_mean\n",
    "    explained_variance = pca.explained_variance_ratio_  # Variance explained by each PC\n",
    "    coefficients = pca.components_.T  # Transposed to align features with components\n",
    "    scores = nodes_pca  # Transformed data in the new space (projections)\n",
    "\n",
    "    \n",
    "    pca_mean = pca.mean_   \n",
    "    \n",
    "\n",
    "    # Plot the histogram of the PCA explained variance ratio\n",
    "    plt.figure(figsize=(6, 6))\n",
    "    plt.bar(range(1, len(explained_variance) + 1), explained_variance * 100, alpha=0.7, color='b')\n",
    "\n",
    "    plt.xticks(range(1, len(explained_variance) + 1))\n",
    "    plt.yticks(np.arange(0, 101, 10))\n",
    "    plt.xlabel('Principal Components', fontsize=15)\n",
    "    plt.ylabel('Explained Variance Ratio',fontsize=15)\n",
    "    plt.title('Histogram of PCA Explained Variance Ratio', fontsize=20, fontdict={'weight': 'bold'})\n",
    "    plt.show()\n",
    "\n",
    "    # Cumulative sum of explained variance\n",
    "    cumulative_variance = np.cumsum(explained_variance)\n",
    "\n",
    "    # Plot cumulative variance\n",
    "    plt.figure(figsize=(8, 5))\n",
    "    plt.plot(range(1, len(cumulative_variance) + 1), cumulative_variance, marker='o', linestyle='--')\n",
    "    plt.xlabel(\"Number of Principal Components\")\n",
    "    plt.ylabel(\"Cumulative Variance Explained\")\n",
    "    plt.title(\"Cumulative Sum of Variance Explained\")\n",
    "    plt.grid()\n",
    "    plt.show()\n",
    "\n",
    "    return coefficients,scores, explained_variance, pca_mean\n"
   ]
  },
  {
   "cell_type": "code",
   "execution_count": null,
   "metadata": {},
   "outputs": [],
   "source": [
    "#| hide\n",
    "import nbdev; nbdev.nbdev_export()"
   ]
  }
 ],
 "metadata": {
  "kernelspec": {
   "display_name": "python3",
   "language": "python",
   "name": "python3"
  }
 },
 "nbformat": 4,
 "nbformat_minor": 2
}
